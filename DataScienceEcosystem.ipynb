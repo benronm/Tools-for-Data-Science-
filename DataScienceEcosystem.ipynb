{
 "cells": [
  {
   "cell_type": "markdown",
   "id": "a522e999-ed78-4ddc-912f-307b33e07b2f",
   "metadata": {},
   "source": [
    "# Data Science Tools and Ecosystem"
   ]
  },
  {
   "cell_type": "markdown",
   "id": "1d7930a7-8f6f-4c9b-93b9-cc7370add86a",
   "metadata": {},
   "source": [
    "In this notebook, Data Science Tools and Ecosystem are summarized."
   ]
  },
  {
   "cell_type": "markdown",
   "id": "13dc3874-c1fa-44a0-b494-48be20e4d930",
   "metadata": {},
   "source": [
    "**Objectives:**\n",
    "- List popular languages that Data Scientists use\n",
    "- Some of the commonly used libraries used by Data Scientists\n",
    "- Get hands on experience with Python, GitHub, and Rstudio"
   ]
  },
  {
   "cell_type": "markdown",
   "id": "1345a6d7-3d09-4f28-a7af-4a343908b183",
   "metadata": {},
   "source": [
    "Some of the popular languages that Data Scientists use are:\n",
    "1. Python\n",
    "2. SQL\n",
    "3. R"
   ]
  },
  {
   "cell_type": "markdown",
   "id": "c1e5109b-4979-412d-958d-ee5df1da254f",
   "metadata": {},
   "source": [
    "Some of the commonly used libraries used by Data Scientists include:\n",
    "1. SciPy\n",
    "2. Pandas\n",
    "3. SkiKit"
   ]
  },
  {
   "cell_type": "markdown",
   "id": "7b205e89-149d-4495-87d9-d1b1fad496f6",
   "metadata": {},
   "source": [
    "Data Science Tools|\n",
    "|--------------------|\n",
    "|RStudio|\n",
    "|Apache Spark|\n",
    "|TensorFlow|\n"
   ]
  },
  {
   "cell_type": "markdown",
   "id": "f6a318e5-39b3-4ec8-af5c-3f8c85b925f5",
   "metadata": {},
   "source": [
    "### Below are a few examples of evaluating arithmetic expressions in Python\n",
    "- 4 + 7\n",
    "- 2*3"
   ]
  },
  {
   "cell_type": "code",
   "execution_count": 4,
   "id": "08a64d25-7915-4d85-b717-8065e3ce0bd9",
   "metadata": {},
   "outputs": [
    {
     "data": {
      "text/plain": [
       "17"
      ]
     },
     "execution_count": 4,
     "metadata": {},
     "output_type": "execute_result"
    }
   ],
   "source": [
    "#This a simple arithmetic expression to mutiply then add integers\n",
    "(3*4)+5"
   ]
  },
  {
   "cell_type": "code",
   "execution_count": 6,
   "id": "878f476d-d67a-4634-a0b3-728076e43da1",
   "metadata": {},
   "outputs": [
    {
     "data": {
      "text/plain": [
       "3.3333333333333335"
      ]
     },
     "execution_count": 6,
     "metadata": {},
     "output_type": "execute_result"
    }
   ],
   "source": [
    "#This will convert 200 minutes to hours by diving by 60\n",
    "200/60"
   ]
  },
  {
   "cell_type": "markdown",
   "id": "24eebe47-3022-4d06-8b42-c9edb42c76ca",
   "metadata": {},
   "source": [
    "## Author\n",
    "Benron Manoah"
   ]
  },
  {
   "cell_type": "code",
   "execution_count": null,
   "id": "2968ee2b-3847-4c0c-8c50-6ef4f445ac4d",
   "metadata": {},
   "outputs": [],
   "source": []
  }
 ],
 "metadata": {
  "kernelspec": {
   "display_name": "Python 3 (ipykernel)",
   "language": "python",
   "name": "python3"
  },
  "language_info": {
   "codemirror_mode": {
    "name": "ipython",
    "version": 3
   },
   "file_extension": ".py",
   "mimetype": "text/x-python",
   "name": "python",
   "nbconvert_exporter": "python",
   "pygments_lexer": "ipython3",
   "version": "3.10.9"
  }
 },
 "nbformat": 4,
 "nbformat_minor": 5
}
